{
 "cells": [
  {
   "cell_type": "code",
   "execution_count": null,
   "id": "90c447d5",
   "metadata": {},
   "outputs": [],
   "source": [
    "from ultralytics import YOLO\n",
    "import os\n",
    "\n",
    "# Paths\n",
    "project_root = os.path.abspath(\"..\")  # go one level up from notebooks/\n",
    "inbox_dir = os.path.join(project_root, \"inbox\")\n",
    "\n",
    "# Make sure inbox exists\n",
    "os.makedirs(inbox_dir, exist_ok=True)\n",
    "\n",
    "# Load pretrained YOLOv8 nano\n",
    "model = YOLO(\"yolov8n.pt\")\n",
    "\n",
    "# Export to ONNX (this creates yolov8n.onnx in current working dir)\n",
    "exported_file = model.export(format=\"onnx\", opset=12)\n",
    "\n",
    "# Move it to inbox/\n",
    "onnx_target = os.path.join(inbox_dir, \"yolov8n.onnx\")\n",
    "os.replace(exported_file, onnx_target)\n",
    "print(f\"ONNX model saved to: {onnx_target}\")"
   ]
  }
 ],
 "metadata": {
  "kernelspec": {
   "display_name": "venv_pcb_yolo",
   "language": "python",
   "name": "python3"
  },
  "language_info": {
   "name": "python",
   "version": "3.10.18"
  }
 },
 "nbformat": 4,
 "nbformat_minor": 5
}
